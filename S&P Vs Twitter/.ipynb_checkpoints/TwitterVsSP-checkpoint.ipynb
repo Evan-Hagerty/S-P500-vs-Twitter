{
 "cells": [
  {
   "cell_type": "code",
   "execution_count": 25,
   "metadata": {},
   "outputs": [],
   "source": [
    "#imports to run code\n",
    "import pandas as pd \n",
    "import pandas_datareader as web\n",
    "from datetime import datetime\n",
    "import matplotlib.pyplot as plt\n",
    "import numpy as np\n",
    "import tweepy as tw\n",
    "from matplotlib import style"
   ]
  },
  {
   "cell_type": "code",
   "execution_count": null,
   "metadata": {},
   "outputs": [],
   "source": [
    "api_key = 'eoNi9PDAIaUsqAybs35v4JskQ'\n",
    "api_key_secret = 'IUnpiG5umVnSKo6CZOBiZxGesuHjgAAeTSCrazUi129vn9IKQZ'\n",
    "access_token = '49239520-7yyJoLAKWQkp1mmI8PaB08aPHcQMzkAIdS4LwhtBM'\n",
    "access_token_secret = 'hgISdZXKTuYQEfDxjc4WuB5sls7vDg6FqHK2oT7bonPKZ'\n"
   ]
  },
  {
   "cell_type": "code",
   "execution_count": 26,
   "metadata": {},
   "outputs": [
    {
     "name": "stdout",
     "output_type": "stream",
     "text": [
      "    Symbol                 Name                  Sector\n",
      "0      MMM           3M Company             Industrials\n",
      "1      AOS      A.O. Smith Corp             Industrials\n",
      "2      ABT  Abbott Laboratories             Health Care\n",
      "3     ABBV          AbbVie Inc.             Health Care\n",
      "4     ABMD              Abiomed             Health Care\n",
      "..     ...                  ...                     ...\n",
      "500    YUM      Yum! Brands Inc  Consumer Discretionary\n",
      "501   ZBRA   Zebra Technologies  Information Technology\n",
      "502    ZBH        Zimmer Biomet             Health Care\n",
      "503   ZION        Zions Bancorp              Financials\n",
      "504    ZTS               Zoetis             Health Care\n",
      "\n",
      "[505 rows x 3 columns]\n"
     ]
    }
   ],
   "source": [
    "df_sp500 = pd.read_csv('S&P500.csv')\n",
    "\n",
    "print(df_sp500)"
   ]
  },
  {
   "cell_type": "code",
   "execution_count": null,
   "metadata": {},
   "outputs": [],
   "source": []
  },
  {
   "cell_type": "code",
   "execution_count": 27,
   "metadata": {},
   "outputs": [],
   "source": [
    "#starting and ending dates using only this year because the S&P 500 changed in January 2021\n",
    "start = datetime(2021,1,1)\n",
    "end = datetime.today()\n",
    "stock = []\n",
    "hashtag = []\n",
    "Twitter_ticker = []"
   ]
  },
  {
   "cell_type": "code",
   "execution_count": 28,
   "metadata": {},
   "outputs": [],
   "source": [
    "# stock tp compare vs twitter activity\n",
    "stock = [\"AOS\"]\n",
    "# reference to csv file \n",
    "ticker = pd.read_csv(r'S&P500.csv')"
   ]
  },
  {
   "cell_type": "code",
   "execution_count": 29,
   "metadata": {},
   "outputs": [
    {
     "name": "stdout",
     "output_type": "stream",
     "text": [
      "Attributes       Date  Adj Close      Close       High        Low       Open  \\\n",
      "Symbols                      AOS        AOS        AOS        AOS        AOS   \n",
      "0          2021-01-04  53.656429  53.919998  55.599998  53.570000  54.700001   \n",
      "1          2021-01-05  54.004723  54.270000  54.580002  53.590000  53.639999   \n",
      "2          2021-01-06  55.865582  56.139999  56.889999  54.560001  54.849998   \n",
      "3          2021-01-07  56.552212  56.830002  56.970001  55.959999  56.720001   \n",
      "4          2021-01-08  55.885483  56.160000  57.330002  55.480000  57.099998   \n",
      "\n",
      "Attributes     Volume  \n",
      "Symbols           AOS  \n",
      "0           1484700.0  \n",
      "1            755000.0  \n",
      "2           1386900.0  \n",
      "3           1073000.0  \n",
      "4            804000.0  \n"
     ]
    }
   ],
   "source": [
    "df_stock = web.DataReader(stock,\"yahoo\",start,end)\n",
    "df_stock = df.reset_index()\n",
    "print(df.head())"
   ]
  },
  {
   "cell_type": "code",
   "execution_count": 30,
   "metadata": {},
   "outputs": [
    {
     "name": "stdout",
     "output_type": "stream",
     "text": [
      "<class 'pandas.core.frame.DataFrame'>\n",
      "DatetimeIndex: 60 entries, 2021-01-04 to 2021-03-30\n",
      "Data columns (total 6 columns):\n",
      " #   Column     Non-Null Count  Dtype  \n",
      "---  ------     --------------  -----  \n",
      " 0   High       60 non-null     float64\n",
      " 1   Low        60 non-null     float64\n",
      " 2   Open       60 non-null     float64\n",
      " 3   Close      60 non-null     float64\n",
      " 4   Volume     60 non-null     int64  \n",
      " 5   Adj Close  60 non-null     float64\n",
      "dtypes: float64(5), int64(1)\n",
      "memory usage: 3.3 KB\n",
      "                   High          Low         Open        Close      Volume  \\\n",
      "Date                                                                         \n",
      "2021-01-04  3769.989990  3662.709961  3764.610107  3700.649902  5006680000   \n",
      "2021-01-05  3737.830078  3695.070068  3698.020020  3726.860107  4582620000   \n",
      "2021-01-06  3783.040039  3705.340088  3712.199951  3748.139893  6049970000   \n",
      "2021-01-07  3811.550049  3764.709961  3764.709961  3803.790039  5080870000   \n",
      "2021-01-08  3826.689941  3783.600098  3815.050049  3824.679932  4764180000   \n",
      "\n",
      "              Adj Close  \n",
      "Date                     \n",
      "2021-01-04  3700.649902  \n",
      "2021-01-05  3726.860107  \n",
      "2021-01-06  3748.139893  \n",
      "2021-01-07  3803.790039  \n",
      "2021-01-08  3824.679932  \n"
     ]
    }
   ],
   "source": [
    "SP500=web.DataReader(\"^GSPC\", \"yahoo\", start, end)\n",
    "\n",
    "SP500.info()\n",
    "\n",
    "print(SP500.head())"
   ]
  },
  {
   "cell_type": "code",
   "execution_count": 31,
   "metadata": {},
   "outputs": [
    {
     "data": {
      "image/png": "[encoded data removed]",
      "text/plain": [
       "<Figure size 432x288 with 1 Axes>"
      ]
     },
     "metadata": {
      "needs_background": "light"
     },
     "output_type": "display_data"
    }
   ],
   "source": [
    "df_stock[\"Volume\"].plot()\n",
    "\n",
    "plt.show()"
   ]
  },
  {
   "cell_type": "code",
   "execution_count": null,
   "metadata": {},
   "outputs": [],
   "source": []
  }
 ],
 "metadata": {
  "kernelspec": {
   "display_name": "Python 3",
   "language": "python",
   "name": "python3"
  },
  "language_info": {
   "codemirror_mode": {
    "name": "ipython",
    "version": 3
   },
   "file_extension": ".py",
   "mimetype": "text/x-python",
   "name": "python",
   "nbconvert_exporter": "python",
   "pygments_lexer": "ipython3",
   "version": "3.8.3"
  }
 },
 "nbformat": 4,
 "nbformat_minor": 4
}
